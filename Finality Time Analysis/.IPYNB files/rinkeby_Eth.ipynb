{
 "cells": [
  {
   "cell_type": "code",
   "execution_count": 1,
   "id": "030b6eab",
   "metadata": {},
   "outputs": [],
   "source": [
    "import numpy as np\n",
    "import pandas as pd\n",
    "import matplotlib.pyplot as plt"
   ]
  },
  {
   "cell_type": "code",
   "execution_count": 2,
   "id": "d1b77cdc",
   "metadata": {},
   "outputs": [],
   "source": [
    "df0 = pd.read_table(r\"C:\\Users\\Munish\\Desktop\\Scraping Eth\\rinkeby1.csv\", delimiter = \",\")\n",
    "df1 = pd.read_table(r\"C:\\Users\\Munish\\Desktop\\Scraping Eth\\rinkeby2.csv\", delimiter = \",\")\n",
    "df2 = pd.read_table(r\"C:\\Users\\Munish\\Desktop\\Scraping Eth\\rinkeby3.csv\", delimiter = \",\")\n",
    "df3 = pd.read_table(r\"C:\\Users\\Munish\\Desktop\\Scraping Eth\\rinkeby4.csv\", delimiter = \",\")\n",
    "df4 = pd.read_table(r\"C:\\Users\\Munish\\Desktop\\Scraping Eth\\rinkeby5.csv\", delimiter = \",\")\n",
    "df5 = pd.read_table(r\"C:\\Users\\Munish\\Desktop\\Scraping Eth\\rinkeby6.csv\", delimiter = \",\")\n",
    "df6 = pd.read_table(r\"C:\\Users\\Munish\\Desktop\\Scraping Eth\\rinkeby7.csv\", delimiter = \",\")\n",
    "df7 = pd.read_table(r\"C:\\Users\\Munish\\Desktop\\Scraping Eth\\rinkeby8.csv\", delimiter = \",\")\n",
    "df8 = pd.read_table(r\"C:\\Users\\Munish\\Desktop\\Scraping Eth\\rinkeby9.csv\", delimiter = \",\")\n",
    "df9 = pd.read_table(r\"C:\\Users\\Munish\\Desktop\\Scraping Eth\\rinkeby10.csv\", delimiter = \",\")"
   ]
  },
  {
   "cell_type": "code",
   "execution_count": 3,
   "id": "4f2ff8d4",
   "metadata": {},
   "outputs": [
    {
     "data": {
      "text/plain": [
       "(421, 10)"
      ]
     },
     "execution_count": 3,
     "metadata": {},
     "output_type": "execute_result"
    }
   ],
   "source": [
    "dfinal = [df0,df1,df2,df3,df4,df5,df6,df7,df8,df9]\n",
    "result = pd.concat(dfinal)\n",
    "result.shape"
   ]
  },
  {
   "cell_type": "code",
   "execution_count": 4,
   "id": "e9190630",
   "metadata": {},
   "outputs": [],
   "source": [
    "def get_index(ans):\n",
    "    i = 0;\n",
    "    while(ans[i]!= \" \"):\n",
    "        i+=1;\n",
    "    return i\n",
    "\n",
    "def convertStr(ans):\n",
    "    space = get_index(ans)\n",
    "    time  = int(ans[:space])\n",
    "    if(ans[space+1] == \"m\"):\n",
    "        time *= 60\n",
    "    elif (ans[space+1] == \"h\"):\n",
    "        time = time*60*60\n",
    "    return time\n"
   ]
  },
  {
   "cell_type": "code",
   "execution_count": 5,
   "id": "fe2180b6",
   "metadata": {},
   "outputs": [],
   "source": [
    "\n",
    "arr = []\n",
    "for i in range(0,result.shape[0]):\n",
    "    arr.append( convertStr(result['timestamp'].iloc[i]))"
   ]
  },
  {
   "cell_type": "code",
   "execution_count": 6,
   "id": "234c1b2f",
   "metadata": {},
   "outputs": [],
   "source": [
    " result[\"time_in_seconds\"] = arr"
   ]
  },
  {
   "cell_type": "code",
   "execution_count": 7,
   "id": "615428d6",
   "metadata": {},
   "outputs": [],
   "source": [
    "def convertBlcks(ans):\n",
    "    time  = int(ans[:2])\n",
    "    return time\n",
    "\n",
    "\n",
    "arr_new = []\n",
    "for i in range(0,result.shape[0]):\n",
    "    arr_new.append( convertStr(result['block_confirmations'].iloc[i]))"
   ]
  },
  {
   "cell_type": "code",
   "execution_count": 8,
   "id": "acd29fde",
   "metadata": {},
   "outputs": [],
   "source": [
    "result[\"blockss\"] = arr_new"
   ]
  },
  {
   "cell_type": "markdown",
   "id": "fa3b29cc",
   "metadata": {},
   "source": [
    "###  Calculation for 7 block confirmation time"
   ]
  },
  {
   "cell_type": "code",
   "execution_count": 9,
   "id": "d6a066e8",
   "metadata": {},
   "outputs": [],
   "source": [
    "arr_avg = []\n",
    "for i in range(0,result.shape[0]):\n",
    "    time = result[\"time_in_seconds\"].iloc[i]\n",
    "    blocks = result[\"blockss\"].iloc[i]\n",
    "    arr_avg.append(7*time/blocks)\n",
    "result[\"time_per_7blocks\"] = arr_avg\n",
    "\n",
    "\n"
   ]
  },
  {
   "cell_type": "code",
   "execution_count": 10,
   "id": "12430e64",
   "metadata": {
    "scrolled": true
   },
   "outputs": [
    {
     "data": {
      "text/plain": [
       "count    421.000000\n",
       "mean     103.899296\n",
       "std       31.025968\n",
       "min       52.500000\n",
       "25%       84.000000\n",
       "50%      101.500000\n",
       "75%      120.000000\n",
       "max      210.000000\n",
       "Name: time_per_7blocks, dtype: float64"
      ]
     },
     "execution_count": 10,
     "metadata": {},
     "output_type": "execute_result"
    }
   ],
   "source": [
    "result[\"time_per_7blocks\"].describe()\n"
   ]
  },
  {
   "cell_type": "code",
   "execution_count": 30,
   "id": "0b2e37cc",
   "metadata": {},
   "outputs": [
    {
     "data": {
      "text/plain": [
       "Text(0, 0.5, 'Number of Transactions')"
      ]
     },
     "execution_count": 30,
     "metadata": {},
     "output_type": "execute_result"
    },
    {
     "data": {
      "image/png": "[encoded data removed]",
      "text/plain": [
       "<Figure size 432x288 with 1 Axes>"
      ]
     },
     "metadata": {
      "needs_background": "light"
     },
     "output_type": "display_data"
    }
   ],
   "source": [
    "graph1 = result[\"time_per_7blocks\"].hist(bins = 80) \n",
    "graph1.set_xlabel(\"Confirmation time for 7 block (in sec)\")\n",
    "graph1.set_ylabel(\"Number of Transactions\")"
   ]
  },
  {
   "cell_type": "markdown",
   "id": "1edb5ac0",
   "metadata": {},
   "source": [
    "### Calculations for 12 block confirmation time"
   ]
  },
  {
   "cell_type": "code",
   "execution_count": 12,
   "id": "13ae6fdd",
   "metadata": {},
   "outputs": [],
   "source": [
    "arr_avg12 = []\n",
    "for i in range(0,result.shape[0]):\n",
    "    time = result[\"time_in_seconds\"].iloc[i]\n",
    "    blocks = result[\"blockss\"].iloc[i]\n",
    "    arr_avg12.append(12*time/blocks)\n",
    "result[\"time_per_12_blocks\"] = arr_avg12"
   ]
  },
  {
   "cell_type": "code",
   "execution_count": 13,
   "id": "2193df93",
   "metadata": {},
   "outputs": [
    {
     "data": {
      "text/plain": [
       "count    421.000000\n",
       "mean     178.113079\n",
       "std       53.187375\n",
       "min       90.000000\n",
       "25%      144.000000\n",
       "50%      174.000000\n",
       "75%      205.714286\n",
       "max      360.000000\n",
       "Name: time_per_12_blocks, dtype: float64"
      ]
     },
     "execution_count": 13,
     "metadata": {},
     "output_type": "execute_result"
    }
   ],
   "source": [
    "result[\"time_per_12_blocks\"].describe()\n"
   ]
  },
  {
   "cell_type": "code",
   "execution_count": 29,
   "id": "bb03c72e",
   "metadata": {},
   "outputs": [
    {
     "data": {
      "text/plain": [
       "Text(0, 0.5, 'Number of Transactions')"
      ]
     },
     "execution_count": 29,
     "metadata": {},
     "output_type": "execute_result"
    },
    {
     "data": {
      "image/png": "[encoded data removed]",
      "text/plain": [
       "<Figure size 432x288 with 1 Axes>"
      ]
     },
     "metadata": {
      "needs_background": "light"
     },
     "output_type": "display_data"
    }
   ],
   "source": [
    "graph  = result[\"time_per_12_blocks\"].hist(bins=80)\n",
    "graph.set_xlabel(\"Confirmation time for 12 block (in sec)\")\n",
    "graph.set_ylabel(\"Number of Transactions\")"
   ]
  },
  {
   "cell_type": "code",
   "execution_count": null,
   "id": "a59d2d27",
   "metadata": {},
   "outputs": [],
   "source": []
  }
 ],
 "metadata": {
  "kernelspec": {
   "display_name": "Python 3",
   "language": "python",
   "name": "python3"
  },
  "language_info": {
   "codemirror_mode": {
    "name": "ipython",
    "version": 3
   },
   "file_extension": ".py",
   "mimetype": "text/x-python",
   "name": "python",
   "nbconvert_exporter": "python",
   "pygments_lexer": "ipython3",
   "version": "3.8.8"
  }
 },
 "nbformat": 4,
 "nbformat_minor": 5
}
