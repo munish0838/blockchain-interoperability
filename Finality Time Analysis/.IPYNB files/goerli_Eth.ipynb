{
 "cells": [
  {
   "cell_type": "code",
   "execution_count": 3,
   "id": "030b6eab",
   "metadata": {},
   "outputs": [],
   "source": [
    "import numpy as np\n",
    "import pandas as pd\n",
    "import matplotlib.pyplot as plt"
   ]
  },
  {
   "cell_type": "code",
   "execution_count": 4,
   "id": "d1b77cdc",
   "metadata": {},
   "outputs": [],
   "source": [
    "df0 = pd.read_table(r\"C:\\Users\\Munish\\Downloads\\goerelli.csv\", delimiter = \",\")\n",
    "df1 = pd.read_table(r\"C:\\Users\\Munish\\Downloads\\goerelli(1).csv\", delimiter = \",\")\n",
    "df2 = pd.read_table(r\"C:\\Users\\Munish\\Downloads\\goerelli(2).csv\", delimiter = \",\")\n",
    "df3 = pd.read_table(r\"C:\\Users\\Munish\\Downloads\\goerelli(3).csv\", delimiter = \",\")\n",
    "df4 = pd.read_table(r\"C:\\Users\\Munish\\Downloads\\goerelli(4).csv\", delimiter = \",\")\n"
   ]
  },
  {
   "cell_type": "code",
   "execution_count": 5,
   "id": "4f2ff8d4",
   "metadata": {},
   "outputs": [
    {
     "data": {
      "text/plain": [
       "(201, 10)"
      ]
     },
     "execution_count": 5,
     "metadata": {},
     "output_type": "execute_result"
    }
   ],
   "source": [
    "dfinal = [df0,df1,df2,df3,df4]\n",
    "result = pd.concat(dfinal)\n",
    "result.shape"
   ]
  },
  {
   "cell_type": "code",
   "execution_count": 6,
   "id": "e9190630",
   "metadata": {},
   "outputs": [],
   "source": [
    "def get_index(ans):\n",
    "    i = 0;\n",
    "    while(ans[i]!= \" \"):\n",
    "        i+=1;\n",
    "    return i\n",
    "\n",
    "def convertStr(ans):\n",
    "    space = get_index(ans)\n",
    "    time  = int(ans[:space])\n",
    "    if(ans[space+1] == \"m\"):\n",
    "        time *= 60\n",
    "    elif (ans[space+1] == \"h\"):\n",
    "        time = time*60*60\n",
    "    return time\n"
   ]
  },
  {
   "cell_type": "code",
   "execution_count": 7,
   "id": "fe2180b6",
   "metadata": {},
   "outputs": [],
   "source": [
    "\n",
    "arr = []\n",
    "for i in range(0,result.shape[0]):\n",
    "    arr.append( convertStr(result['timestamp'].iloc[i]))"
   ]
  },
  {
   "cell_type": "code",
   "execution_count": 8,
   "id": "234c1b2f",
   "metadata": {},
   "outputs": [],
   "source": [
    " result[\"time_in_seconds\"] = arr"
   ]
  },
  {
   "cell_type": "code",
   "execution_count": 9,
   "id": "615428d6",
   "metadata": {},
   "outputs": [],
   "source": [
    "def convertBlcks(ans):\n",
    "    time  = int(ans[:2])\n",
    "    return time\n",
    "\n",
    "\n",
    "arr_new = []\n",
    "for i in range(0,result.shape[0]):\n",
    "    arr_new.append( convertStr(result['block_confirmations'].iloc[i]))"
   ]
  },
  {
   "cell_type": "code",
   "execution_count": 10,
   "id": "acd29fde",
   "metadata": {},
   "outputs": [],
   "source": [
    "result[\"blockss\"] = arr_new"
   ]
  },
  {
   "cell_type": "code",
   "execution_count": 11,
   "id": "d6a066e8",
   "metadata": {},
   "outputs": [],
   "source": [
    "arr_avg = []\n",
    "for i in range(0,result.shape[0]):\n",
    "    time = result[\"time_in_seconds\"].iloc[i]\n",
    "    blocks = result[\"blockss\"].iloc[i]\n",
    "    arr_avg.append(7*time/blocks)\n",
    "result[\"time_per_7blocks\"] = arr_avg\n",
    "\n",
    "\n"
   ]
  },
  {
   "cell_type": "code",
   "execution_count": 14,
   "id": "ef653af0",
   "metadata": {},
   "outputs": [
    {
     "data": {
      "text/plain": [
       "count    201.000000\n",
       "mean     120.815506\n",
       "std       60.759334\n",
       "min       60.000000\n",
       "25%       84.000000\n",
       "50%       98.000000\n",
       "75%      133.000000\n",
       "max      329.000000\n",
       "Name: time_per_7blocks, dtype: float64"
      ]
     },
     "execution_count": 14,
     "metadata": {},
     "output_type": "execute_result"
    }
   ],
   "source": [
    "result[\"time_per_7blocks\"].describe()"
   ]
  },
  {
   "cell_type": "code",
   "execution_count": 19,
   "id": "12430e64",
   "metadata": {
    "scrolled": true
   },
   "outputs": [
    {
     "data": {
      "text/plain": [
       "Text(0, 0.5, 'Number of Transactions')"
      ]
     },
     "execution_count": 19,
     "metadata": {},
     "output_type": "execute_result"
    },
    {
     "data": {
      "image/png": "[encoded data removed]",
      "text/plain": [
       "<Figure size 432x288 with 1 Axes>"
      ]
     },
     "metadata": {
      "needs_background": "light"
     },
     "output_type": "display_data"
    }
   ],
   "source": [
    "graph7 = result[\"time_per_7blocks\"].hist(bins=80)\n",
    "graph7.set_xlabel(\"Confirmation time Interval for 7 blocks  (in sec)\")\n",
    "graph7.set_ylabel(\"Number of Transactions\")"
   ]
  },
  {
   "cell_type": "markdown",
   "id": "e2ccf7e7",
   "metadata": {},
   "source": [
    "### Calculation for 12 block confirmation times"
   ]
  },
  {
   "cell_type": "code",
   "execution_count": 15,
   "id": "91b4fd07",
   "metadata": {},
   "outputs": [],
   "source": [
    "arr_avg12 = []\n",
    "for i in range(0,result.shape[0]):\n",
    "    time = result[\"time_in_seconds\"].iloc[i]\n",
    "    blocks = result[\"blockss\"].iloc[i]\n",
    "    arr_avg12.append(12*time/blocks)\n",
    "result[\"time_per_12blocks\"] = arr_avg12\n",
    "\n"
   ]
  },
  {
   "cell_type": "code",
   "execution_count": 16,
   "id": "cc073bea",
   "metadata": {},
   "outputs": [
    {
     "data": {
      "text/plain": [
       "count    201.000000\n",
       "mean     207.112296\n",
       "std      104.158858\n",
       "min      102.857143\n",
       "25%      144.000000\n",
       "50%      168.000000\n",
       "75%      228.000000\n",
       "max      564.000000\n",
       "Name: time_per_12blocks, dtype: float64"
      ]
     },
     "execution_count": 16,
     "metadata": {},
     "output_type": "execute_result"
    }
   ],
   "source": [
    "result[\"time_per_12blocks\"].describe()"
   ]
  },
  {
   "cell_type": "code",
   "execution_count": 18,
   "id": "77e63b06",
   "metadata": {},
   "outputs": [
    {
     "data": {
      "text/plain": [
       "Text(0, 0.5, 'Number of Transactions')"
      ]
     },
     "execution_count": 18,
     "metadata": {},
     "output_type": "execute_result"
    },
    {
     "data": {
      "image/png": "[encoded data removed]",
      "text/plain": [
       "<Figure size 432x288 with 1 Axes>"
      ]
     },
     "metadata": {
      "needs_background": "light"
     },
     "output_type": "display_data"
    }
   ],
   "source": [
    "graph12 = result[\"time_per_12blocks\"].hist(bins=80)\n",
    "graph12.set_xlabel(\"Confirmation time Interval for 12 blocks  (in sec)\")\n",
    "graph12.set_ylabel(\"Number of Transactions\")"
   ]
  },
  {
   "cell_type": "code",
   "execution_count": null,
   "id": "c0ea17fa",
   "metadata": {},
   "outputs": [],
   "source": []
  }
 ],
 "metadata": {
  "kernelspec": {
   "display_name": "Python 3",
   "language": "python",
   "name": "python3"
  },
  "language_info": {
   "codemirror_mode": {
    "name": "ipython",
    "version": 3
   },
   "file_extension": ".py",
   "mimetype": "text/x-python",
   "name": "python",
   "nbconvert_exporter": "python",
   "pygments_lexer": "ipython3",
   "version": "3.8.8"
  }
 },
 "nbformat": 4,
 "nbformat_minor": 5
}
